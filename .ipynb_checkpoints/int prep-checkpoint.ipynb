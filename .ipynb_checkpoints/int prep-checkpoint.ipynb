{
 "cells": [
  {
   "cell_type": "code",
   "execution_count": 6,
   "id": "b95ac225",
   "metadata": {},
   "outputs": [],
   "source": [
    "def addfunc(a,b):\n",
    "\n",
    "    '''\n",
    "    we can write docstring using three single quotation marks -function to add two numbers and return the sum\n",
    "    \n",
    "    '''    \n",
    "    return a+b"
   ]
  },
  {
   "cell_type": "code",
   "execution_count": 7,
   "id": "63a5f755",
   "metadata": {},
   "outputs": [
    {
     "name": "stdout",
     "output_type": "stream",
     "text": [
      "Help on function addfunc in module __main__:\n",
      "\n",
      "addfunc(a, b)\n",
      "    we can write docstring using three single quotation marks -function to add two numbers and return the sum\n",
      "\n"
     ]
    }
   ],
   "source": [
    "help(addfunc)"
   ]
  },
  {
   "cell_type": "code",
   "execution_count": 9,
   "id": "7b84012a",
   "metadata": {},
   "outputs": [],
   "source": [
    "def addfunc(a,b):\n",
    "\n",
    "    \"\"\"\n",
    "    also, we can use three double quotation marks -function to add two numbers and return the sum\n",
    "    \n",
    "    \"\"\"\n",
    "    \n",
    "    \n",
    "    return a+b"
   ]
  },
  {
   "cell_type": "code",
   "execution_count": 10,
   "id": "3b0c3f81",
   "metadata": {},
   "outputs": [
    {
     "name": "stdout",
     "output_type": "stream",
     "text": [
      "Help on function addfunc in module __main__:\n",
      "\n",
      "addfunc(a, b)\n",
      "    also, we can use three double quotation marks -function to add two numbers and return the sum\n",
      "\n"
     ]
    }
   ],
   "source": [
    "help(addfunc)"
   ]
  },
  {
   "cell_type": "markdown",
   "id": "afa29c1d",
   "metadata": {},
   "source": [
    "### accessing docstring using __doc__method"
   ]
  },
  {
   "cell_type": "code",
   "execution_count": 11,
   "id": "71a3d885",
   "metadata": {},
   "outputs": [
    {
     "data": {
      "text/plain": [
       "'\\n    also, we can use three double quotation marks -function to add two numbers and return the sum\\n    \\n    '"
      ]
     },
     "execution_count": 11,
     "metadata": {},
     "output_type": "execute_result"
    }
   ],
   "source": [
    "addfunc.__doc__"
   ]
  },
  {
   "cell_type": "code",
   "execution_count": null,
   "id": "ba672606",
   "metadata": {},
   "outputs": [],
   "source": []
  }
 ],
 "metadata": {
  "kernelspec": {
   "display_name": "Python 3 (ipykernel)",
   "language": "python",
   "name": "python3"
  },
  "language_info": {
   "codemirror_mode": {
    "name": "ipython",
    "version": 3
   },
   "file_extension": ".py",
   "mimetype": "text/x-python",
   "name": "python",
   "nbconvert_exporter": "python",
   "pygments_lexer": "ipython3",
   "version": "3.9.7"
  }
 },
 "nbformat": 4,
 "nbformat_minor": 5
}
